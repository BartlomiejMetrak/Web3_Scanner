{
 "cells": [
  {
   "cell_type": "markdown",
   "metadata": {},
   "source": [
    "# Calculate current Wallet Value"
   ]
  },
  {
   "cell_type": "code",
   "execution_count": 8,
   "metadata": {},
   "outputs": [],
   "source": [
    "from Feeds.infura_multichain import Web3Infura, get_checksum_address\n",
    "from Feeds.etherscan import EtherscanClient\n",
    "from Feeds.utility import *\n",
    "\n",
    "from Feeds.coingecko import *\n",
    "from Feeds.dexscreener import *\n",
    "\n",
    "from datetime import datetime\n",
    "import warnings\n",
    "import urllib3\n",
    "\n",
    "warnings.filterwarnings(\"ignore\", category=urllib3.exceptions.InsecureRequestWarning)"
   ]
  },
  {
   "cell_type": "code",
   "execution_count": 9,
   "metadata": {},
   "outputs": [],
   "source": [
    "ETHERSCAN_API_KEY = 'KR52G3163AU9696NCAZ74CGFKJZV7GIIG6'\n",
    "\n",
    "\n",
    "addresses = {\n",
    "    \"sample_random_0\": \"0x0f000bFDD83597758011189898073653d97bf557\",\n",
    "    \"sample_random_1\": \"0x5664773F216D8006D5cfEc4c9De324395d05b422\",\n",
    "    \"sample_random_2\": \"0x1929d4d2b476f38ad06688c4b11fd01aacf4c9f5\",\n",
    "    \"NeuralAI\": \"0x32B053F2CBA79F80ada5078cb6b305da92BDe6e1\",\n",
    "    \"SharpAI\": \"0xaddb6dc7e2f7caea67621dd3ca2e8321ade33286\",\n",
    "    \"INFRA\": \"0xe9EccDE9d26FCBB5e93F536CFC4510A7f46274f8\",\n",
    "    \"KNDX\": \"0x7CA5af5bA3472AF6049F63c1AbC324475D44EFC1\",\n",
    "    \"BUILD\": \"0x73454ACfdDb7a36A3cd8Eb171fBEa86c6a55E550\",\n",
    "    \"TAOBOT\": \"0x49fb8ad7578148E17c3eF0C344CE23A66ed372C4\",\n",
    "    \"Vmint\": \"0xD7B2C1a7F3c67fB0EA57a7ef29bC1F18D7bE3195\",\n",
    "    \"CHAT\": \"0xBb3D7F42C58Abd83616Ad7C8C72473Ee46df2678\",\n",
    "}"
   ]
  },
  {
   "cell_type": "markdown",
   "metadata": {},
   "source": [
    "**Get wallet current portfolio**"
   ]
  },
  {
   "cell_type": "code",
   "execution_count": 10,
   "metadata": {},
   "outputs": [],
   "source": [
    "wallet_address = addresses[\"sample_random_0\"]"
   ]
  },
  {
   "cell_type": "code",
   "execution_count": 14,
   "metadata": {},
   "outputs": [
    {
     "name": "stdout",
     "output_type": "stream",
     "text": [
      "Fetching blockchain data from block 1...\n",
      "last_block: 21020940, Num trans: 89\n",
      "Fetching blockchain data from block 1...\n",
      "last_block: 21020940, Num trans: 106\n"
     ]
    },
    {
     "data": {
      "text/html": [
       "<div>\n",
       "<style scoped>\n",
       "    .dataframe tbody tr th:only-of-type {\n",
       "        vertical-align: middle;\n",
       "    }\n",
       "\n",
       "    .dataframe tbody tr th {\n",
       "        vertical-align: top;\n",
       "    }\n",
       "\n",
       "    .dataframe thead th {\n",
       "        text-align: right;\n",
       "    }\n",
       "</style>\n",
       "<table border=\"1\" class=\"dataframe\">\n",
       "  <thead>\n",
       "    <tr style=\"text-align: right;\">\n",
       "      <th></th>\n",
       "      <th>blockNumber</th>\n",
       "      <th>timeStamp</th>\n",
       "      <th>hash</th>\n",
       "      <th>nonce</th>\n",
       "      <th>blockHash</th>\n",
       "      <th>from</th>\n",
       "      <th>contractAddress</th>\n",
       "      <th>to</th>\n",
       "      <th>value</th>\n",
       "      <th>tokenName</th>\n",
       "      <th>tokenSymbol</th>\n",
       "      <th>tokenDecimal</th>\n",
       "      <th>transactionIndex</th>\n",
       "      <th>gas</th>\n",
       "      <th>gasPrice</th>\n",
       "      <th>gasUsed</th>\n",
       "      <th>cumulativeGasUsed</th>\n",
       "      <th>input</th>\n",
       "      <th>confirmations</th>\n",
       "    </tr>\n",
       "  </thead>\n",
       "  <tbody>\n",
       "    <tr>\n",
       "      <th>95</th>\n",
       "      <td>20977065</td>\n",
       "      <td>1729068923</td>\n",
       "      <td>0x079022a44b658b15eac3412a98558870bbfa2518a7d6...</td>\n",
       "      <td>68</td>\n",
       "      <td>0x05d5554470296e7fb2c892734d89edba947dec42e50e...</td>\n",
       "      <td>0x3fc91a3afd70395cd496c647d5a6cc9d4b2b7fad</td>\n",
       "      <td>0x59a73bef0f729761bc3b9aa7f41872077e4bf300</td>\n",
       "      <td>0x0f000bfdd83597758011189898073653d97bf557</td>\n",
       "      <td>1.346669e+22</td>\n",
       "      <td>SECT BOT</td>\n",
       "      <td>SECT</td>\n",
       "      <td>18.0</td>\n",
       "      <td>38</td>\n",
       "      <td>241013</td>\n",
       "      <td>16457017411</td>\n",
       "      <td>165516</td>\n",
       "      <td>5966464</td>\n",
       "      <td>deprecated</td>\n",
       "      <td>66610</td>\n",
       "    </tr>\n",
       "    <tr>\n",
       "      <th>101</th>\n",
       "      <td>21006168</td>\n",
       "      <td>1729419803</td>\n",
       "      <td>0x560fd1f4a9a5fa9325777d630a470b2fde1ab4a9960d...</td>\n",
       "      <td>69</td>\n",
       "      <td>0x08e291354e4d8fdaf39a52f5149a4fcbe1b11bb24007...</td>\n",
       "      <td>0x3fc91a3afd70395cd496c647d5a6cc9d4b2b7fad</td>\n",
       "      <td>0xf445adc37b8185eeee6cb8ac1628e59bda4b072b</td>\n",
       "      <td>0x0f000bfdd83597758011189898073653d97bf557</td>\n",
       "      <td>1.593048e+22</td>\n",
       "      <td>AR:AI</td>\n",
       "      <td>ARAI</td>\n",
       "      <td>18.0</td>\n",
       "      <td>3</td>\n",
       "      <td>291337</td>\n",
       "      <td>9152708346</td>\n",
       "      <td>204861</td>\n",
       "      <td>2312899</td>\n",
       "      <td>deprecated</td>\n",
       "      <td>37507</td>\n",
       "    </tr>\n",
       "    <tr>\n",
       "      <th>104</th>\n",
       "      <td>21020940</td>\n",
       "      <td>1729597955</td>\n",
       "      <td>0x17c320da370588643586b2b0bea3973fc1c9870df37d...</td>\n",
       "      <td>71</td>\n",
       "      <td>0x7d56fc9888ac89a7ab2c04fcc0215361d78949577147...</td>\n",
       "      <td>0x0f000bfdd83597758011189898073653d97bf557</td>\n",
       "      <td>0xf445adc37b8185eeee6cb8ac1628e59bda4b072b</td>\n",
       "      <td>0xf445adc37b8185eeee6cb8ac1628e59bda4b072b</td>\n",
       "      <td>6.372191e+20</td>\n",
       "      <td>AR:AI</td>\n",
       "      <td>ARAI</td>\n",
       "      <td>18.0</td>\n",
       "      <td>29</td>\n",
       "      <td>274999</td>\n",
       "      <td>7999941534</td>\n",
       "      <td>197163</td>\n",
       "      <td>2464780</td>\n",
       "      <td>deprecated</td>\n",
       "      <td>22735</td>\n",
       "    </tr>\n",
       "    <tr>\n",
       "      <th>105</th>\n",
       "      <td>21020940</td>\n",
       "      <td>1729597955</td>\n",
       "      <td>0x17c320da370588643586b2b0bea3973fc1c9870df37d...</td>\n",
       "      <td>71</td>\n",
       "      <td>0x7d56fc9888ac89a7ab2c04fcc0215361d78949577147...</td>\n",
       "      <td>0x0f000bfdd83597758011189898073653d97bf557</td>\n",
       "      <td>0xf445adc37b8185eeee6cb8ac1628e59bda4b072b</td>\n",
       "      <td>0x854e5cb095a654583677e87ae7c3c83e04e398a6</td>\n",
       "      <td>1.529326e+22</td>\n",
       "      <td>AR:AI</td>\n",
       "      <td>ARAI</td>\n",
       "      <td>18.0</td>\n",
       "      <td>29</td>\n",
       "      <td>274999</td>\n",
       "      <td>7999941534</td>\n",
       "      <td>197163</td>\n",
       "      <td>2464780</td>\n",
       "      <td>deprecated</td>\n",
       "      <td>22735</td>\n",
       "    </tr>\n",
       "  </tbody>\n",
       "</table>\n",
       "</div>"
      ],
      "text/plain": [
       "    blockNumber   timeStamp   \n",
       "95     20977065  1729068923  \\\n",
       "101    21006168  1729419803   \n",
       "104    21020940  1729597955   \n",
       "105    21020940  1729597955   \n",
       "\n",
       "                                                  hash nonce   \n",
       "95   0x079022a44b658b15eac3412a98558870bbfa2518a7d6...    68  \\\n",
       "101  0x560fd1f4a9a5fa9325777d630a470b2fde1ab4a9960d...    69   \n",
       "104  0x17c320da370588643586b2b0bea3973fc1c9870df37d...    71   \n",
       "105  0x17c320da370588643586b2b0bea3973fc1c9870df37d...    71   \n",
       "\n",
       "                                             blockHash   \n",
       "95   0x05d5554470296e7fb2c892734d89edba947dec42e50e...  \\\n",
       "101  0x08e291354e4d8fdaf39a52f5149a4fcbe1b11bb24007...   \n",
       "104  0x7d56fc9888ac89a7ab2c04fcc0215361d78949577147...   \n",
       "105  0x7d56fc9888ac89a7ab2c04fcc0215361d78949577147...   \n",
       "\n",
       "                                           from   \n",
       "95   0x3fc91a3afd70395cd496c647d5a6cc9d4b2b7fad  \\\n",
       "101  0x3fc91a3afd70395cd496c647d5a6cc9d4b2b7fad   \n",
       "104  0x0f000bfdd83597758011189898073653d97bf557   \n",
       "105  0x0f000bfdd83597758011189898073653d97bf557   \n",
       "\n",
       "                                contractAddress   \n",
       "95   0x59a73bef0f729761bc3b9aa7f41872077e4bf300  \\\n",
       "101  0xf445adc37b8185eeee6cb8ac1628e59bda4b072b   \n",
       "104  0xf445adc37b8185eeee6cb8ac1628e59bda4b072b   \n",
       "105  0xf445adc37b8185eeee6cb8ac1628e59bda4b072b   \n",
       "\n",
       "                                             to         value tokenName   \n",
       "95   0x0f000bfdd83597758011189898073653d97bf557  1.346669e+22  SECT BOT  \\\n",
       "101  0x0f000bfdd83597758011189898073653d97bf557  1.593048e+22     AR:AI   \n",
       "104  0xf445adc37b8185eeee6cb8ac1628e59bda4b072b  6.372191e+20     AR:AI   \n",
       "105  0x854e5cb095a654583677e87ae7c3c83e04e398a6  1.529326e+22     AR:AI   \n",
       "\n",
       "    tokenSymbol  tokenDecimal transactionIndex     gas     gasPrice gasUsed   \n",
       "95         SECT          18.0               38  241013  16457017411  165516  \\\n",
       "101        ARAI          18.0                3  291337   9152708346  204861   \n",
       "104        ARAI          18.0               29  274999   7999941534  197163   \n",
       "105        ARAI          18.0               29  274999   7999941534  197163   \n",
       "\n",
       "    cumulativeGasUsed       input confirmations  \n",
       "95            5966464  deprecated         66610  \n",
       "101           2312899  deprecated         37507  \n",
       "104           2464780  deprecated         22735  \n",
       "105           2464780  deprecated         22735  "
      ]
     },
     "execution_count": 14,
     "metadata": {},
     "output_type": "execute_result"
    }
   ],
   "source": [
    "def get_tokens(wallet_address):\n",
    "    EtherscanClinet = EtherscanClient(api_key=ETHERSCAN_API_KEY)\n",
    "\n",
    "    # transakcje inicjowane przez użytkownika, tutaj mamy wszystkie wysłane, otrzymane tokeny, uniswapy itp\n",
    "    # tutaj mamy wszystkie transakcje ale bez symbolu tokena i contract address, które są potrzebne do odczytania dodatkowych informacji co to za token\n",
    "    df_normal_transactions = EtherscanClinet.get_normal_transactions_by_address(address=wallet_address)\n",
    "\n",
    "    # transfery tokenów z walleta na wallet (W2W), wpłaty przy użyciu kontraktów np zakup na Uniswap, w tym randomowe airdropy shitcoinów, scamowe przelewy itp\n",
    "        # tutaj mamy te dodatkowe informacje jak symbol tokena lub contract address\n",
    "    df_transfers_address = EtherscanClinet.get_token_transfers_by_address(address=wallet_address)\n",
    "\n",
    "    # aby wyfiltrować shitcoiny bierzemy 'get_token_transfers_by_address' i filtrujemy tylko po hash z 'get_normal_transactions_by_address'\n",
    "    # wtedy otrzymujemy transakcje tokenów zainicjowane przez użytkownika, więc nie są to jakieś scamy, aidropy itp tylko faktycznie dokonane inwestycjie (lub przelane W2W)\n",
    "    valid_tokens = df_transfers_address[df_transfers_address['hash'].isin(df_normal_transactions['hash'])]['tokenSymbol'].unique().tolist()\n",
    "    \n",
    "    # pozostawiamy tylko transakcje na tych tokenach które były prawdopodbnie zainicjowane przez użytkownika\n",
    "    data = df_transfers_address[df_transfers_address['tokenSymbol'].isin(valid_tokens)].copy()\n",
    "    data[[\"tokenDecimal\", \"value\"]] = data[[\"tokenDecimal\", \"value\"]].astype(float)\n",
    "    return data\n",
    "\n",
    "df_tokens = get_tokens(wallet_address)\n",
    "df_tokens.tail(4)"
   ]
  },
  {
   "cell_type": "code",
   "execution_count": 16,
   "metadata": {},
   "outputs": [
    {
     "name": "stdout",
     "output_type": "stream",
     "text": [
      "Token: BDID, Balance: 30875.577890828477, Contract Address: 0x5016878159e84dadb05bb04135f3eac339ae201f\n",
      "Token: TAOBOT, Balance: 464930.3688443876, Contract Address: 0x49fb8ad7578148e17c3ef0c344ce23a66ed372c4\n",
      "Token: vMINT, Balance: 939840.9819134906, Contract Address: 0xd7b2c1a7f3c67fb0ea57a7ef29bc1f18d7be3195\n",
      "Token: NEURAL, Balance: 4530.369081439087, Contract Address: 0x32b053f2cba79f80ada5078cb6b305da92bde6e1\n",
      "Token: INFRA, Balance: 615.243215387, Contract Address: 0xe9eccde9d26fcbb5e93f536cfc4510a7f46274f8\n",
      "Token: CHAT, Balance: 56006.13578435295, Contract Address: 0xbb3d7f42c58abd83616ad7c8c72473ee46df2678\n",
      "Token: SECT, Balance: 13466.68802587581, Contract Address: 0x59a73bef0f729761bc3b9aa7f41872077e4bf300\n"
     ]
    }
   ],
   "source": [
    "balances = {}\n",
    "contract_address = {}\n",
    "\n",
    "def update_balance(row):\n",
    "    token = row['tokenSymbol']\n",
    "    decimals = row['tokenDecimal']\n",
    "    value = row['value'] / (10 ** decimals)  # Adjust for decimals\n",
    "    \n",
    "    # Initialize balance for the token if it doesn't exist\n",
    "    if token not in balances:\n",
    "        balances[token] = 0\n",
    "        contract_address[token] = row['contractAddress']\n",
    "\n",
    "    # Check if it's an inflow or outflow\n",
    "    if row['to'].lower() == wallet_address.lower():\n",
    "        balances[token] += value  # Inflow\n",
    "    elif row['from'].lower() == wallet_address.lower():\n",
    "        balances[token] -= value  # Outflow\n",
    "\n",
    "\n",
    "df_tokens.apply(update_balance, axis=1)\n",
    "\n",
    "for token, balance in balances.items():\n",
    "     if balance != 0 and abs(balance) >= 0.0001:\n",
    "        print(f\"Token: {token}, Balance: {balance}, Contract Address: {contract_address[token]}\")"
   ]
  },
  {
   "cell_type": "markdown",
   "metadata": {},
   "source": [
    "**Get token balance using INFURA**\n",
    "\n",
    "I do not know excatly why but ehterscan API returns sometimes less precise data, and Infura is more reliable here regarding current token balance (probably due to directio nodeconnection)"
   ]
  },
  {
   "cell_type": "code",
   "execution_count": 19,
   "metadata": {},
   "outputs": [
    {
     "data": {
      "text/plain": [
       "Decimal('577.743215387')"
      ]
     },
     "execution_count": 19,
     "metadata": {},
     "output_type": "execute_result"
    }
   ],
   "source": [
    "selected_chain = 'ethereum'  # Example for Polygon chain\n",
    "\n",
    "\n",
    "infura_client = Web3Infura(chain=selected_chain)\n",
    "\n",
    "token_balance = infura_client.get_token_balance(\n",
    "    get_checksum_address(0xe9eccde9d26fcbb5e93f536cfc4510a7f46274f8),\n",
    "    get_checksum_address(wallet_address),\n",
    "    )\n",
    "token_balance"
   ]
  },
  {
   "cell_type": "markdown",
   "metadata": {},
   "source": [
    "**Get current coingecko price**"
   ]
  },
  {
   "cell_type": "code",
   "execution_count": 17,
   "metadata": {},
   "outputs": [
    {
     "data": {
      "text/plain": [
       "0.062292"
      ]
     },
     "execution_count": 17,
     "metadata": {},
     "output_type": "execute_result"
    }
   ],
   "source": [
    "price = get_token_price_coingecko(\n",
    "    token_address=\"0x49fb8ad7578148e17c3ef0c344ce23a66ed372c4\"\n",
    "    )\n",
    "\n",
    "price"
   ]
  }
 ],
 "metadata": {
  "kernelspec": {
   "display_name": "base",
   "language": "python",
   "name": "python3"
  },
  "language_info": {
   "codemirror_mode": {
    "name": "ipython",
    "version": 3
   },
   "file_extension": ".py",
   "mimetype": "text/x-python",
   "name": "python",
   "nbconvert_exporter": "python",
   "pygments_lexer": "ipython3",
   "version": "3.10.9"
  }
 },
 "nbformat": 4,
 "nbformat_minor": 2
}
