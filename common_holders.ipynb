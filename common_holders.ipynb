{
 "cells": [
  {
   "cell_type": "code",
   "execution_count": 2,
   "metadata": {},
   "outputs": [],
   "source": [
    "from Feeds.infura_multichain import Web3Infura, get_checksum_address\n",
    "from Feeds.etherscan import EtherscanClient\n",
    "from Feeds.utility import *\n",
    "\n",
    "from Feeds.coingecko import *\n",
    "from Feeds.dexscreener import *\n",
    "\n",
    "from datetime import datetime\n",
    "import warnings\n",
    "import urllib3\n",
    "import pandas as pd\n",
    "\n",
    "\n",
    "# Suppress only the InsecureRequestWarning\n",
    "warnings.filterwarnings(\"ignore\", category=urllib3.exceptions.InsecureRequestWarning)"
   ]
  },
  {
   "cell_type": "markdown",
   "metadata": {},
   "source": [
    "# Skrypt do szukania wspólnych adresów\n",
    "Okeślamy liczbe projektów oraz daty w których sprawdzamy listę holderów, następnie sprawdzamy i analizujemy wspólnych holderów\n",
    "Dodatkowo możemy sprawdzić wartość bieżącą portfeli lub wartość poszczególnych projektów, aby odsiać małe pozycje. Raczej portfele z małymi pozycjami nie \n",
    "będą stanowiły dobrego adresu do naśladowania."
   ]
  },
  {
   "cell_type": "code",
   "execution_count": 3,
   "metadata": {},
   "outputs": [],
   "source": [
    "ETHERSCAN_API_KEY = 'KR52G3163AU9696NCAZ74CGFKJZV7GIIG6'\n",
    "\n",
    "\n",
    "addresses = {\n",
    "    \"sample_random_0\": \"0x0f000bFDD83597758011189898073653d97bf557\",\n",
    "    \"sample_random_1\": \"0x5664773F216D8006D5cfEc4c9De324395d05b422\",\n",
    "    \"sample_random_2\": \"0x1929d4d2b476f38ad06688c4b11fd01aacf4c9f5\",\n",
    "    \"NeuralAI\": \"0x32B053F2CBA79F80ada5078cb6b305da92BDe6e1\",\n",
    "    \"SharpAI\": \"0xaddb6dc7e2f7caea67621dd3ca2e8321ade33286\",\n",
    "    \"INFRA\": \"0xe9EccDE9d26FCBB5e93F536CFC4510A7f46274f8\",\n",
    "    \"KNDX\": \"0x7CA5af5bA3472AF6049F63c1AbC324475D44EFC1\",\n",
    "    \"BUILD\": \"0x73454ACfdDb7a36A3cd8Eb171fBEa86c6a55E550\",\n",
    "    \"TAOBOT\": \"0x49fb8ad7578148E17c3eF0C344CE23A66ed372C4\",\n",
    "    \"Vmint\": \"0xD7B2C1a7F3c67fB0EA57a7ef29bC1F18D7bE3195\",\n",
    "    \"CHAT\": \"0xBb3D7F42C58Abd83616Ad7C8C72473Ee46df2678\",\n",
    "}"
   ]
  },
  {
   "cell_type": "code",
   "execution_count": 4,
   "metadata": {},
   "outputs": [],
   "source": [
    "def get_common_holderss(tokens_with_dates):\n",
    "    \"\"\"\n",
    "    Find common holders across multiple tokens based on 'to' addresses.\n",
    "    tokens_with_dates: List of tuples [(token_contract, datetime), ...]\n",
    "    \"\"\"\n",
    "    cls = EtherscanClient(api_key=ETHERSCAN_API_KEY)\n",
    "    all_holders_df = None  # Initialize as None to hold the first DataFrame\n",
    "\n",
    "    for token_contract, date in tokens_with_dates:\n",
    "        if date:\n",
    "            # Convert date to UNIX timestamp and get block number\n",
    "            timestamp = datetime_to_unix_timestamp(date)\n",
    "            block_number = cls.get_block_number_by_timestamp(timestamp)\n",
    "            print(f\"Fetching holders for token {token_contract} at block {block_number}\")\n",
    "            holders_df = cls.get_token_transfers_by_address(contract_address=token_contract, start_block=0, end_block=block_number)\n",
    "        else:\n",
    "            # Fetch current holders\n",
    "            print(f\"Fetching current holders for token {token_contract}\")\n",
    "            holders_df = cls.get_token_transfers_by_address(contract_address=token_contract)\n",
    "\n",
    "        # Filter out only the 'to' column from the holders DataFrame\n",
    "        holders_df = holders_df[['to']].drop_duplicates()\n",
    "\n",
    "        # If this is the first token, initialize the DataFrame\n",
    "        if all_holders_df is None:\n",
    "            all_holders_df = holders_df\n",
    "        else:\n",
    "            # Merge the current holders with the previous ones to find common addresses\n",
    "            all_holders_df = pd.merge(all_holders_df, holders_df, on='to', how='inner')\n",
    "\n",
    "    # Return the final DataFrame with common holders across all tokens\n",
    "    return all_holders_df"
   ]
  },
  {
   "cell_type": "code",
   "execution_count": 5,
   "metadata": {},
   "outputs": [
    {
     "name": "stdout",
     "output_type": "stream",
     "text": [
      "Fetching holders for token 0x3567aa22cd3ab9aEf23d7e18EE0D7cf16974d7e6 at block 20966646\n",
      "Fetching blockchain data from block 1...\n",
      "last_block: 20723886, Num trans: 10000\n",
      "Fetching blockchain data from block 20723887...\n",
      "last_block: 20966308, Num trans: 4650\n",
      "Fetching current holders for token 0xBb3D7F42C58Abd83616Ad7C8C72473Ee46df2678\n",
      "Fetching blockchain data from block 1...\n",
      "last_block: 18946351, Num trans: 10000\n",
      "Fetching blockchain data from block 18946352...\n",
      "last_block: 19305705, Num trans: 10000\n",
      "Fetching blockchain data from block 19305706...\n",
      "last_block: 19799805, Num trans: 10000\n",
      "Fetching blockchain data from block 19799806...\n",
      "last_block: 20842958, Num trans: 10000\n",
      "Fetching blockchain data from block 20842959...\n",
      "last_block: 21043330, Num trans: 4463\n",
      "Common holders: 55 \n",
      "['0xfeb37531c44701c48fa9dd4256dc0f97c9568cb9', '0x3fc91a3afd70395cd496c647d5a6cc9d4b2b7fad', '0x000000fee13a103a10d593b9ae06b3e05f2e7e1c', '0x22f9dcf4647084d6c31b2765f6910cd85c178c18', '0x382ffce2287252f930e1c8dc9328dac5bf282ba1', '0xad01c20d5886137e056775af56915de824c8fce5', '0x74de5d4fcbf63e00296fd95d33236b9794016631', '0xa967266d4ef3bc4c9e9d941ce0377e664831a5e8', '0x1111111254eeb25477b68fb85ed929f73a960582', '0x00000000009e50a7ddb7a7b0e2ee6604fd120e49', '0xf081470f5c6fbccf48cc4e5b82dd926409dcdd67', '0x0b7eb4b740ddc4a992ff7c1206fc8963389c1b28', '0x39041f1b366fe33f9a5a79de5120f2aee2577ebc', '0xbc2e45b2cf2075a74b32ea25090f8f27766687c5', '0xe37e799d5077682fa0a244d46e5649f71457bd09', '0x4130d9c537bb5a6eb47e2f23fbc78f307cab95e1', '0x9008807f33772a2a6976101c6e0d0c6b2b2dc743', '0x0f4a1d7fdf4890be35e71f3e0bbc4a0ec377eca3', '0xb048ed71007ade3b3172bc6d95781833ffa3aac5', '0x55877bd7f2ee37bde55ca4b271a3631f3a7ef121', '0x6a000f20005980200259b80c5102003040001068', '0x4d5401b9e9dcd7c9097e1df036c3afafc35d604f', '0xb9e2ca276b418b8b45ad612bfdd1fa734ad805f2', '0x111111125421ca6dc452d289314280a0f8842a65', '0xf2614a233c7c3e7f08b1f887ba133a13f1eb2c55', '0xca226bd9c754f1283123d32b2a7cf62a722f8ada', '0x00000047bb99ea4d791bb749d970de71ee0b1a34', '0xfbc374549abf8774a763fcd1bce21d288f293165', '0xd8d1e4467a06c0fd9ecd0bf7d1fcb0429d0a8465', '0x00000000009726632680fb29d3f7a9734e3010e2', '0x716f7761a55247058dedc124cade635cbee2109f', '0x353c1f0bc78fbbc245b3c93ef77b1dcc5b77d2a0', '0x9b3e84714e7b8501648b50e2fc002f8f3dec5ad5', '0xa27939e78ac518f5c3e68531c8648479ca265642', '0x4bc93594b3cdd937897e74cc73ea95029a6f95f3', '0xa47b1fc5ed4b296dea37806120d9bcefccd80ba6', '0xe49099f6fa154eeadb9eca912c384009e8b79cd3', '0xdef171fe48cf0115b1d80b88dc8eab59176fee57', '0xe570937e1936be9198f80d6a084e7f36cf72e08c', '0x4f82e73edb06d29ff62c91ec8f5ff06571bdeb29', '0x64fc9552e31898651505a561b1c7b1ae2beac73f', '0x69460570c93f9de5e2edbc3052bf10125f0ca22d', '0x64d42a0431c91a4924d3979f75872dce854fc171', '0x700fa0b05cd310d4e2ad6df00edeb45ddacf48e1', '0xa851a0c48baf0966518b090326958da565c6fbfd', '0x3a584315a50ec3d705179cb3f3e7c15ba5839100', '0x929af8f091368d8be51e6e66248cfbe6c15821eb', '0x553bd0735d7cdaa12bf68a2becddb354fb346783', '0x58f0a3d100898372bfbbeb11828427c59c2c4e4c', '0x963ef906613d6ebeca06f5cf4e2b8d18644c89a6', '0x8fe32a2013a692f0834c570b50b5cc763a4abb73', '0xcf5540fffcdc3d510b18bfca6d2b9987b0772559', '0x1b4702be05d953a130d0664f6ddcaaa6bfcfbd65', '0x8634e0538429c1f519d57c2b3de4104d9be8fff2', '0xe9fa69e862089d8ae3b45ca7f9ccd912510bb19f']\n"
     ]
    }
   ],
   "source": [
    "# Example usage\n",
    "tokens_with_dates = [\n",
    "    (\"0x3567aa22cd3ab9aEf23d7e18EE0D7cf16974d7e6\", datetime(2024, 10, 15)),  # Sharp AI\n",
    "    # (\"0x32B053F2CBA79F80ada5078cb6b305da92BDe6e1\", None),  # Neural AI\n",
    "    # (\"0x7CA5af5bA3472AF6049F63c1AbC324475D44EFC1\", datetime(2024, 10, 19)),  # KNDX (Kondux)\n",
    "    # (\"0x73454ACfdDb7a36A3cd8Eb171fBEa86c6a55E550\", datetime(2024, 2, 24)),  # BUILD (Build AI)\n",
    "    # (\"0x49fb8ad7578148E17c3eF0C344CE23A66ed372C4\", None),  # TAOBOT (Tao.Bot)\n",
    "    # (\"0xe9EccDE9d26FCBB5e93F536CFC4510A7f46274f8\", None),  # INFRA (Infra)\n",
    "    # (\"0xD7B2C1a7F3c67fB0EA57a7ef29bC1F18D7bE3195\", None),  # Vmint (VoluMint)\n",
    "    (\"0xBb3D7F42C58Abd83616Ad7C8C72473Ee46df2678\", None),  # CHAT (Vector Chat)\n",
    "]\n",
    "\n",
    "common_holders = get_common_holderss(tokens_with_dates)\n",
    "print(f\"Common holders: {len(common_holders)} \\n{common_holders['to'].to_list()}\")"
   ]
  }
 ],
 "metadata": {
  "kernelspec": {
   "display_name": "base",
   "language": "python",
   "name": "python3"
  },
  "language_info": {
   "codemirror_mode": {
    "name": "ipython",
    "version": 3
   },
   "file_extension": ".py",
   "mimetype": "text/x-python",
   "name": "python",
   "nbconvert_exporter": "python",
   "pygments_lexer": "ipython3",
   "version": "3.10.9"
  }
 },
 "nbformat": 4,
 "nbformat_minor": 2
}
